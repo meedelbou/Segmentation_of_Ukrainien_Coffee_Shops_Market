{
 "cells": [
  {
   "cell_type": "markdown",
   "metadata": {
    "id": "bA5ajAmk7XH6",
    "tags": []
   },
   "source": [
    "# DataCamp Certification Case Study\n",
    "\n",
    "### Project Brief\n",
    "\n",
    "You are on the data science team for a coffee company that is looking to expand their business into Ukraine. They want to get an understanding of the existing coffee shop market there.\n",
    "\n",
    "You have a dataset from Google businesses. It contains information about coffee shops in Ukraine. The marketing manager wants to identify the key coffee shop segments. They will use this to construct their marketing plan. In their current location, they split the market into 5 segments. The marketing manager wants to know how many segments are in this new market, and their key features.\n",
    "\n",
    "You will be presenting your findings to the Marketing Manager, who has no data science background.\n",
    "\n",
    "The data you will use for this analysis can be accessed here: `\"data/coffee_shops.csv\"`"
   ]
  },
  {
   "cell_type": "markdown",
   "metadata": {
    "tags": []
   },
   "source": [
    "# <strong>Content</strong>\n",
    "- Motivation\n",
    "- Dataset Description\n",
    "- Analysis Plan\n",
    "- Performance Metrics\n",
    "- Exploratory Data Analysis\n",
    "- Exploratory Data Analysis Summary\n",
    "- Model Development\n",
    "- Conclusion\n",
    "- References\n",
    "\n",
    "\n",
    "\n",
    "#  Motivation\n",
    "\n",
    "Europe is the largest coffee market in the world, accounting for about one-third of global consumption. Although consumption is expected to stabilise in the long term, Europe will remain attractive to coffee exporters. Especially the growing specialty coffee market in Europe offers interesting opportunities. In this project we will focus on the coffe market in Ukraine and help the company to identify the main segments and their key features by understanding the exsiting coffee shops in this market.\n",
    "\n",
    "\n",
    "##  Dataset Description \n",
    "Ukrainian coffee shops dataset has been provided by Google businesses an accessed in   `\"data/coffee_shops.csv\"`.\n",
    "\n",
    "\n",
    "###  Data Description\n",
    "<p>The data consists of 9 features </p>\n",
    "\n",
    "| Feature | Description | Type |\n",
    "| --- | --- | --- |\n",
    "|Region| SHop location|object|\n",
    "|Place name |  Name of the shop|object|\n",
    "|Place type | The type of coffee shop |object|\n",
    "|Rating | Coffee shop rating |numerical|\n",
    "|Reviews | number of reviews provided for the shop|numerical|\n",
    "|Price | price category |object|\n",
    "|Delivery option| describing, whether there is (or isn’t) a delivery option|object|\n",
    "|Dine in option |  describing whether there is or isn’t (missing) a dine-in option|object|\n",
    "|Takeout option|  describing whether there is or isn’t (missing) a takeout option| object|\n",
    "\n",
    "\n",
    "\n",
    "\n",
    "#  Analysis Plan\n",
    "<p>This is an unsupervised clustering problem when we will identify the main segments by regions and their key features.<br>\n",
    "The following steps will be followed</p>\n",
    "\n",
    "1. Identify possible suitable performance metrics to measure the success of the analysis.\n",
    "2. Apply exploratory data analysis to get insights about the data and detect problems in the dataset. \n",
    "3. Select a suitable algorithm for model training to segment our dataset. \n",
    "4. Provide discussions about the ways to improve the model. \n",
    "\n",
    "\n",
    "#  Performance Metrics \n",
    "\n",
    "In Clustering validation we evaluate the result of a cluster objectively and quantitativel,we will do this validation by applying the elbow Method: \n",
    "\n",
    "#### Elbow Method\n",
    "Elbow Method is an empirical method to find the optimal number of clusters for a dataset. In this method, we pick a range of candidate values of k, then apply K-Means clustering using each of the values of k. Find the average distance of each point in a cluster to its centroid, and represent it in a plot\n",
    "\n",
    "#  Exploratory Data Analysis\n",
    "\n",
    "In this section, an initial exploratory analysis of the dataset will be done. The dataset will be\n",
    "evaluated for any data quality problems that have to be resolved.\n",
    "\n",
    "- Let's begin with importing needed modules for the analysis:\n"
   ]
  },
  {
   "cell_type": "code",
   "execution_count": 1,
   "metadata": {
    "scrolled": true
   },
   "outputs": [],
   "source": [
    "# Use this cell to begin, and add as many cells as you need to complete your analysis!\n",
    "import pandas as pd\n",
    "import numpy as np\n",
    "import matplotlib.pyplot as plt\n",
    "import seaborn as sns\n",
    "import warnings,time\n",
    "from scipy import stats\n",
    "from sklearn.impute import SimpleImputer\n",
    "warnings.filterwarnings(\"ignore\")"
   ]
  },
  {
   "cell_type": "markdown",
   "metadata": {},
   "source": [
    "### Loading and Cleaning The Data:\n",
    "\n",
    "- Loading data from the path provided. \n",
    "- Checking for and filling the missing values .\n",
    "- Checking for and droping  duplicates.\n",
    "- Checking for other transformation."
   ]
  },
  {
   "cell_type": "code",
   "execution_count": 2,
   "metadata": {},
   "outputs": [
    {
     "data": {
      "text/html": [
       "<div>\n",
       "<style scoped>\n",
       "    .dataframe tbody tr th:only-of-type {\n",
       "        vertical-align: middle;\n",
       "    }\n",
       "\n",
       "    .dataframe tbody tr th {\n",
       "        vertical-align: top;\n",
       "    }\n",
       "\n",
       "    .dataframe thead th {\n",
       "        text-align: right;\n",
       "    }\n",
       "</style>\n",
       "<table border=\"1\" class=\"dataframe\">\n",
       "  <thead>\n",
       "    <tr style=\"text-align: right;\">\n",
       "      <th></th>\n",
       "      <th>Region</th>\n",
       "      <th>Place name</th>\n",
       "      <th>Place type</th>\n",
       "      <th>Rating</th>\n",
       "      <th>Reviews</th>\n",
       "      <th>Price</th>\n",
       "      <th>Delivery option</th>\n",
       "      <th>Dine in option</th>\n",
       "      <th>Takeout option</th>\n",
       "    </tr>\n",
       "  </thead>\n",
       "  <tbody>\n",
       "    <tr>\n",
       "      <th>0</th>\n",
       "      <td>Mariupol</td>\n",
       "      <td>Dim Kavu</td>\n",
       "      <td>Coffee store</td>\n",
       "      <td>4.6</td>\n",
       "      <td>206.0</td>\n",
       "      <td>NaN</td>\n",
       "      <td>NaN</td>\n",
       "      <td>NaN</td>\n",
       "      <td>NaN</td>\n",
       "    </tr>\n",
       "    <tr>\n",
       "      <th>1</th>\n",
       "      <td>Mariupol</td>\n",
       "      <td>Коферум</td>\n",
       "      <td>Cafe</td>\n",
       "      <td>5.0</td>\n",
       "      <td>24.0</td>\n",
       "      <td>$$</td>\n",
       "      <td>False</td>\n",
       "      <td>NaN</td>\n",
       "      <td>True</td>\n",
       "    </tr>\n",
       "    <tr>\n",
       "      <th>2</th>\n",
       "      <td>Mariupol</td>\n",
       "      <td>Кофейня Світ Чаю</td>\n",
       "      <td>Coffee shop</td>\n",
       "      <td>5.0</td>\n",
       "      <td>11.0</td>\n",
       "      <td>NaN</td>\n",
       "      <td>NaN</td>\n",
       "      <td>NaN</td>\n",
       "      <td>True</td>\n",
       "    </tr>\n",
       "    <tr>\n",
       "      <th>3</th>\n",
       "      <td>Mariupol</td>\n",
       "      <td>Кофейня Starcoff</td>\n",
       "      <td>Coffee shop</td>\n",
       "      <td>4.4</td>\n",
       "      <td>331.0</td>\n",
       "      <td>$$</td>\n",
       "      <td>False</td>\n",
       "      <td>True</td>\n",
       "      <td>True</td>\n",
       "    </tr>\n",
       "    <tr>\n",
       "      <th>4</th>\n",
       "      <td>Mariupol</td>\n",
       "      <td>Кофейня \"Friend Zone\"</td>\n",
       "      <td>Coffee shop</td>\n",
       "      <td>5.0</td>\n",
       "      <td>12.0</td>\n",
       "      <td>NaN</td>\n",
       "      <td>NaN</td>\n",
       "      <td>True</td>\n",
       "      <td>True</td>\n",
       "    </tr>\n",
       "    <tr>\n",
       "      <th>...</th>\n",
       "      <td>...</td>\n",
       "      <td>...</td>\n",
       "      <td>...</td>\n",
       "      <td>...</td>\n",
       "      <td>...</td>\n",
       "      <td>...</td>\n",
       "      <td>...</td>\n",
       "      <td>...</td>\n",
       "      <td>...</td>\n",
       "    </tr>\n",
       "    <tr>\n",
       "      <th>195</th>\n",
       "      <td>Dnipro</td>\n",
       "      <td>Artist</td>\n",
       "      <td>Restaurant</td>\n",
       "      <td>4.6</td>\n",
       "      <td>963.0</td>\n",
       "      <td>$$$</td>\n",
       "      <td>NaN</td>\n",
       "      <td>True</td>\n",
       "      <td>True</td>\n",
       "    </tr>\n",
       "    <tr>\n",
       "      <th>196</th>\n",
       "      <td>Dnipro</td>\n",
       "      <td>Dream Cafe</td>\n",
       "      <td>Cafe</td>\n",
       "      <td>4.3</td>\n",
       "      <td>646.0</td>\n",
       "      <td>$$</td>\n",
       "      <td>False</td>\n",
       "      <td>True</td>\n",
       "      <td>True</td>\n",
       "    </tr>\n",
       "    <tr>\n",
       "      <th>197</th>\n",
       "      <td>Dnipro</td>\n",
       "      <td>РУТА КАФЕ ПП КУЛІЧЕНКО К.І.</td>\n",
       "      <td>Cafe</td>\n",
       "      <td>4.6</td>\n",
       "      <td>16.0</td>\n",
       "      <td>$$</td>\n",
       "      <td>False</td>\n",
       "      <td>True</td>\n",
       "      <td>True</td>\n",
       "    </tr>\n",
       "    <tr>\n",
       "      <th>198</th>\n",
       "      <td>Dnipro</td>\n",
       "      <td>Ob'yektna Kava</td>\n",
       "      <td>Coffee shop</td>\n",
       "      <td>4.7</td>\n",
       "      <td>599.0</td>\n",
       "      <td>$$</td>\n",
       "      <td>NaN</td>\n",
       "      <td>True</td>\n",
       "      <td>True</td>\n",
       "    </tr>\n",
       "    <tr>\n",
       "      <th>199</th>\n",
       "      <td>Dnipro</td>\n",
       "      <td>О...МАРАТ КАФЕ ПП ПОЛІСТЕП</td>\n",
       "      <td>Cafe</td>\n",
       "      <td>4.3</td>\n",
       "      <td>341.0</td>\n",
       "      <td>NaN</td>\n",
       "      <td>NaN</td>\n",
       "      <td>True</td>\n",
       "      <td>NaN</td>\n",
       "    </tr>\n",
       "  </tbody>\n",
       "</table>\n",
       "<p>200 rows × 9 columns</p>\n",
       "</div>"
      ],
      "text/plain": [
       "       Region                   Place name    Place type  Rating  Reviews  \\\n",
       "0    Mariupol                     Dim Kavu  Coffee store     4.6    206.0   \n",
       "1    Mariupol                      Коферум          Cafe     5.0     24.0   \n",
       "2    Mariupol             Кофейня Світ Чаю   Coffee shop     5.0     11.0   \n",
       "3    Mariupol             Кофейня Starcoff   Coffee shop     4.4    331.0   \n",
       "4    Mariupol        Кофейня \"Friend Zone\"   Coffee shop     5.0     12.0   \n",
       "..        ...                          ...           ...     ...      ...   \n",
       "195    Dnipro                       Artist    Restaurant     4.6    963.0   \n",
       "196    Dnipro                   Dream Cafe          Cafe     4.3    646.0   \n",
       "197    Dnipro  РУТА КАФЕ ПП КУЛІЧЕНКО К.І.          Cafe     4.6     16.0   \n",
       "198    Dnipro               Ob'yektna Kava   Coffee shop     4.7    599.0   \n",
       "199    Dnipro   О...МАРАТ КАФЕ ПП ПОЛІСТЕП          Cafe     4.3    341.0   \n",
       "\n",
       "    Price Delivery option Dine in option Takeout option  \n",
       "0     NaN             NaN            NaN            NaN  \n",
       "1      $$           False            NaN           True  \n",
       "2     NaN             NaN            NaN           True  \n",
       "3      $$           False           True           True  \n",
       "4     NaN             NaN           True           True  \n",
       "..    ...             ...            ...            ...  \n",
       "195   $$$             NaN           True           True  \n",
       "196    $$           False           True           True  \n",
       "197    $$           False           True           True  \n",
       "198    $$             NaN           True           True  \n",
       "199   NaN             NaN           True            NaN  \n",
       "\n",
       "[200 rows x 9 columns]"
      ]
     },
     "execution_count": 2,
     "metadata": {},
     "output_type": "execute_result"
    }
   ],
   "source": [
    "data = pd.read_csv('data/coffee_shops.csv')\n",
    "data"
   ]
  },
  {
   "cell_type": "code",
   "execution_count": 3,
   "metadata": {},
   "outputs": [
    {
     "name": "stdout",
     "output_type": "stream",
     "text": [
      "<class 'pandas.core.frame.DataFrame'>\n",
      "RangeIndex: 200 entries, 0 to 199\n",
      "Data columns (total 9 columns):\n",
      " #   Column           Non-Null Count  Dtype  \n",
      "---  ------           --------------  -----  \n",
      " 0   Region           200 non-null    object \n",
      " 1   Place name       200 non-null    object \n",
      " 2   Place type       200 non-null    object \n",
      " 3   Rating           198 non-null    float64\n",
      " 4   Reviews          198 non-null    float64\n",
      " 5   Price            122 non-null    object \n",
      " 6   Delivery option  129 non-null    object \n",
      " 7   Dine in option   140 non-null    object \n",
      " 8   Takeout option   144 non-null    object \n",
      "dtypes: float64(2), object(7)\n",
      "memory usage: 14.2+ KB\n"
     ]
    }
   ],
   "source": [
    "data.info()"
   ]
  },
  {
   "cell_type": "code",
   "execution_count": 4,
   "metadata": {},
   "outputs": [
    {
     "data": {
      "text/plain": [
       "Region              0\n",
       "Place name          0\n",
       "Place type          0\n",
       "Rating              2\n",
       "Reviews             2\n",
       "Price              78\n",
       "Delivery option    71\n",
       "Dine in option     60\n",
       "Takeout option     56\n",
       "dtype: int64"
      ]
     },
     "execution_count": 4,
     "metadata": {},
     "output_type": "execute_result"
    }
   ],
   "source": [
    "data.isnull().sum()"
   ]
  },
  {
   "cell_type": "code",
   "execution_count": 5,
   "metadata": {},
   "outputs": [
    {
     "data": {
      "text/plain": [
       "0"
      ]
     },
     "execution_count": 5,
     "metadata": {},
     "output_type": "execute_result"
    }
   ],
   "source": [
    "data.duplicated().sum()"
   ]
  },
  {
   "cell_type": "markdown",
   "metadata": {},
   "source": [
    "- The dataset consists of 200 entries and 9 Features.\n",
    "- There are no duplicates in the dataset.\n",
    "- There are features with missing values need some imputation.\n",
    "- The data is not large enough to get accurate results from the analysis."
   ]
  },
  {
   "cell_type": "code",
   "execution_count": 3,
   "metadata": {},
   "outputs": [
    {
     "data": {
      "text/html": [
       "<div>\n",
       "<style scoped>\n",
       "    .dataframe tbody tr th:only-of-type {\n",
       "        vertical-align: middle;\n",
       "    }\n",
       "\n",
       "    .dataframe tbody tr th {\n",
       "        vertical-align: top;\n",
       "    }\n",
       "\n",
       "    .dataframe thead th {\n",
       "        text-align: right;\n",
       "    }\n",
       "</style>\n",
       "<table border=\"1\" class=\"dataframe\">\n",
       "  <thead>\n",
       "    <tr style=\"text-align: right;\">\n",
       "      <th></th>\n",
       "      <th>Region</th>\n",
       "      <th>Place name</th>\n",
       "      <th>Place type</th>\n",
       "      <th>Price</th>\n",
       "      <th>Delivery option</th>\n",
       "      <th>Dine in option</th>\n",
       "      <th>Takeout option</th>\n",
       "      <th>Rating</th>\n",
       "      <th>Reviews</th>\n",
       "    </tr>\n",
       "  </thead>\n",
       "  <tbody>\n",
       "    <tr>\n",
       "      <th>0</th>\n",
       "      <td>Mariupol</td>\n",
       "      <td>Dim Kavu</td>\n",
       "      <td>Coffee store</td>\n",
       "      <td>$$</td>\n",
       "      <td>False</td>\n",
       "      <td>True</td>\n",
       "      <td>True</td>\n",
       "      <td>4.6</td>\n",
       "      <td>206.0</td>\n",
       "    </tr>\n",
       "    <tr>\n",
       "      <th>1</th>\n",
       "      <td>Mariupol</td>\n",
       "      <td>Коферум</td>\n",
       "      <td>Cafe</td>\n",
       "      <td>$$</td>\n",
       "      <td>False</td>\n",
       "      <td>True</td>\n",
       "      <td>True</td>\n",
       "      <td>5.0</td>\n",
       "      <td>24.0</td>\n",
       "    </tr>\n",
       "    <tr>\n",
       "      <th>2</th>\n",
       "      <td>Mariupol</td>\n",
       "      <td>Кофейня Світ Чаю</td>\n",
       "      <td>Coffee shop</td>\n",
       "      <td>$$</td>\n",
       "      <td>False</td>\n",
       "      <td>True</td>\n",
       "      <td>True</td>\n",
       "      <td>5.0</td>\n",
       "      <td>11.0</td>\n",
       "    </tr>\n",
       "    <tr>\n",
       "      <th>3</th>\n",
       "      <td>Mariupol</td>\n",
       "      <td>Кофейня Starcoff</td>\n",
       "      <td>Coffee shop</td>\n",
       "      <td>$$</td>\n",
       "      <td>False</td>\n",
       "      <td>True</td>\n",
       "      <td>True</td>\n",
       "      <td>4.4</td>\n",
       "      <td>331.0</td>\n",
       "    </tr>\n",
       "    <tr>\n",
       "      <th>4</th>\n",
       "      <td>Mariupol</td>\n",
       "      <td>Кофейня \"Friend Zone\"</td>\n",
       "      <td>Coffee shop</td>\n",
       "      <td>$$</td>\n",
       "      <td>False</td>\n",
       "      <td>True</td>\n",
       "      <td>True</td>\n",
       "      <td>5.0</td>\n",
       "      <td>12.0</td>\n",
       "    </tr>\n",
       "    <tr>\n",
       "      <th>...</th>\n",
       "      <td>...</td>\n",
       "      <td>...</td>\n",
       "      <td>...</td>\n",
       "      <td>...</td>\n",
       "      <td>...</td>\n",
       "      <td>...</td>\n",
       "      <td>...</td>\n",
       "      <td>...</td>\n",
       "      <td>...</td>\n",
       "    </tr>\n",
       "    <tr>\n",
       "      <th>195</th>\n",
       "      <td>Dnipro</td>\n",
       "      <td>Artist</td>\n",
       "      <td>Restaurant</td>\n",
       "      <td>$$$</td>\n",
       "      <td>False</td>\n",
       "      <td>True</td>\n",
       "      <td>True</td>\n",
       "      <td>4.6</td>\n",
       "      <td>963.0</td>\n",
       "    </tr>\n",
       "    <tr>\n",
       "      <th>196</th>\n",
       "      <td>Dnipro</td>\n",
       "      <td>Dream Cafe</td>\n",
       "      <td>Cafe</td>\n",
       "      <td>$$</td>\n",
       "      <td>False</td>\n",
       "      <td>True</td>\n",
       "      <td>True</td>\n",
       "      <td>4.3</td>\n",
       "      <td>646.0</td>\n",
       "    </tr>\n",
       "    <tr>\n",
       "      <th>197</th>\n",
       "      <td>Dnipro</td>\n",
       "      <td>РУТА КАФЕ ПП КУЛІЧЕНКО К.І.</td>\n",
       "      <td>Cafe</td>\n",
       "      <td>$$</td>\n",
       "      <td>False</td>\n",
       "      <td>True</td>\n",
       "      <td>True</td>\n",
       "      <td>4.6</td>\n",
       "      <td>16.0</td>\n",
       "    </tr>\n",
       "    <tr>\n",
       "      <th>198</th>\n",
       "      <td>Dnipro</td>\n",
       "      <td>Ob'yektna Kava</td>\n",
       "      <td>Coffee shop</td>\n",
       "      <td>$$</td>\n",
       "      <td>False</td>\n",
       "      <td>True</td>\n",
       "      <td>True</td>\n",
       "      <td>4.7</td>\n",
       "      <td>599.0</td>\n",
       "    </tr>\n",
       "    <tr>\n",
       "      <th>199</th>\n",
       "      <td>Dnipro</td>\n",
       "      <td>О...МАРАТ КАФЕ ПП ПОЛІСТЕП</td>\n",
       "      <td>Cafe</td>\n",
       "      <td>$$</td>\n",
       "      <td>False</td>\n",
       "      <td>True</td>\n",
       "      <td>True</td>\n",
       "      <td>4.3</td>\n",
       "      <td>341.0</td>\n",
       "    </tr>\n",
       "  </tbody>\n",
       "</table>\n",
       "<p>200 rows × 9 columns</p>\n",
       "</div>"
      ],
      "text/plain": [
       "       Region                   Place name    Place type Price  \\\n",
       "0    Mariupol                     Dim Kavu  Coffee store    $$   \n",
       "1    Mariupol                      Коферум          Cafe    $$   \n",
       "2    Mariupol             Кофейня Світ Чаю   Coffee shop    $$   \n",
       "3    Mariupol             Кофейня Starcoff   Coffee shop    $$   \n",
       "4    Mariupol        Кофейня \"Friend Zone\"   Coffee shop    $$   \n",
       "..        ...                          ...           ...   ...   \n",
       "195    Dnipro                       Artist    Restaurant   $$$   \n",
       "196    Dnipro                   Dream Cafe          Cafe    $$   \n",
       "197    Dnipro  РУТА КАФЕ ПП КУЛІЧЕНКО К.І.          Cafe    $$   \n",
       "198    Dnipro               Ob'yektna Kava   Coffee shop    $$   \n",
       "199    Dnipro   О...МАРАТ КАФЕ ПП ПОЛІСТЕП          Cafe    $$   \n",
       "\n",
       "    Delivery option Dine in option Takeout option  Rating  Reviews  \n",
       "0             False           True           True     4.6    206.0  \n",
       "1             False           True           True     5.0     24.0  \n",
       "2             False           True           True     5.0     11.0  \n",
       "3             False           True           True     4.4    331.0  \n",
       "4             False           True           True     5.0     12.0  \n",
       "..              ...            ...            ...     ...      ...  \n",
       "195           False           True           True     4.6    963.0  \n",
       "196           False           True           True     4.3    646.0  \n",
       "197           False           True           True     4.6     16.0  \n",
       "198           False           True           True     4.7    599.0  \n",
       "199           False           True           True     4.3    341.0  \n",
       "\n",
       "[200 rows x 9 columns]"
      ]
     },
     "execution_count": 3,
     "metadata": {},
     "output_type": "execute_result"
    }
   ],
   "source": [
    "# Seperating categorical columns from numerical columns\n",
    "num_data = data.select_dtypes(exclude='object')\n",
    "cat_data = data.select_dtypes(include='object')\n",
    "\n",
    "#Defining Imputer for each column type\n",
    "imputer_num = SimpleImputer(strategy='mean')\n",
    "imputer_cat = SimpleImputer(strategy='most_frequent')\n",
    "\n",
    "#Saving column names for each type\n",
    "num_cols = num_data.columns\n",
    "cat_cols = cat_data.columns\n",
    "\n",
    "#Performing SimpleImputer with mean strategy on numerical features and renaming columns\n",
    "num_data = pd.DataFrame(imputer_num.fit_transform(num_data))\n",
    "num_data.columns = num_cols\n",
    "\n",
    "#Performing SimpleImputer with mpst frequent strategy on categorical features and renaming columns\n",
    "cat_data = pd.DataFrame(imputer_cat.fit_transform(cat_data))\n",
    "cat_data.columns= cat_cols\n",
    "\n",
    "#add numerical features to categorical to get our final dataset with no missing values\n",
    "data= pd.concat([cat_data,num_data],axis=1)\n",
    "\n",
    "data\n",
    "    "
   ]
  },
  {
   "cell_type": "code",
   "execution_count": 7,
   "metadata": {},
   "outputs": [
    {
     "data": {
      "text/plain": [
       "Region             0\n",
       "Place name         0\n",
       "Place type         0\n",
       "Price              0\n",
       "Delivery option    0\n",
       "Dine in option     0\n",
       "Takeout option     0\n",
       "Rating             0\n",
       "Reviews            0\n",
       "dtype: int64"
      ]
     },
     "execution_count": 7,
     "metadata": {},
     "output_type": "execute_result"
    }
   ],
   "source": [
    "data.isnull().sum()"
   ]
  },
  {
   "cell_type": "markdown",
   "metadata": {},
   "source": [
    "##### Numerical Features"
   ]
  },
  {
   "cell_type": "code",
   "execution_count": 8,
   "metadata": {},
   "outputs": [
    {
     "data": {
      "text/html": [
       "<div>\n",
       "<style scoped>\n",
       "    .dataframe tbody tr th:only-of-type {\n",
       "        vertical-align: middle;\n",
       "    }\n",
       "\n",
       "    .dataframe tbody tr th {\n",
       "        vertical-align: top;\n",
       "    }\n",
       "\n",
       "    .dataframe thead th {\n",
       "        text-align: right;\n",
       "    }\n",
       "</style>\n",
       "<table border=\"1\" class=\"dataframe\">\n",
       "  <thead>\n",
       "    <tr style=\"text-align: right;\">\n",
       "      <th></th>\n",
       "      <th>Rating</th>\n",
       "      <th>Reviews</th>\n",
       "    </tr>\n",
       "  </thead>\n",
       "  <tbody>\n",
       "    <tr>\n",
       "      <th>count</th>\n",
       "      <td>200.000000</td>\n",
       "      <td>200.000000</td>\n",
       "    </tr>\n",
       "    <tr>\n",
       "      <th>mean</th>\n",
       "      <td>4.663636</td>\n",
       "      <td>622.494949</td>\n",
       "    </tr>\n",
       "    <tr>\n",
       "      <th>std</th>\n",
       "      <td>0.220531</td>\n",
       "      <td>1393.841198</td>\n",
       "    </tr>\n",
       "    <tr>\n",
       "      <th>min</th>\n",
       "      <td>3.900000</td>\n",
       "      <td>3.000000</td>\n",
       "    </tr>\n",
       "    <tr>\n",
       "      <th>25%</th>\n",
       "      <td>4.600000</td>\n",
       "      <td>48.500000</td>\n",
       "    </tr>\n",
       "    <tr>\n",
       "      <th>50%</th>\n",
       "      <td>4.700000</td>\n",
       "      <td>277.000000</td>\n",
       "    </tr>\n",
       "    <tr>\n",
       "      <th>75%</th>\n",
       "      <td>4.800000</td>\n",
       "      <td>780.750000</td>\n",
       "    </tr>\n",
       "    <tr>\n",
       "      <th>max</th>\n",
       "      <td>5.000000</td>\n",
       "      <td>17937.000000</td>\n",
       "    </tr>\n",
       "  </tbody>\n",
       "</table>\n",
       "</div>"
      ],
      "text/plain": [
       "           Rating       Reviews\n",
       "count  200.000000    200.000000\n",
       "mean     4.663636    622.494949\n",
       "std      0.220531   1393.841198\n",
       "min      3.900000      3.000000\n",
       "25%      4.600000     48.500000\n",
       "50%      4.700000    277.000000\n",
       "75%      4.800000    780.750000\n",
       "max      5.000000  17937.000000"
      ]
     },
     "execution_count": 8,
     "metadata": {},
     "output_type": "execute_result"
    }
   ],
   "source": [
    "data.describe()"
   ]
  },
  {
   "cell_type": "markdown",
   "metadata": {},
   "source": [
    "- The maximum number of reviews  17937 .\n",
    "- The maximum rating for a shop is 5/5.\n",
    "- The average rating for all the shops is nearly 622.5.\n",
    "- The average Rating for all the shops is 4.66/5.\n",
    "- We observe that most of the shops in ukraine are well reviewed and rated."
   ]
  },
  {
   "cell_type": "markdown",
   "metadata": {},
   "source": [
    "##### Categorical Features "
   ]
  },
  {
   "cell_type": "code",
   "execution_count": 9,
   "metadata": {},
   "outputs": [
    {
     "data": {
      "text/html": [
       "<div>\n",
       "<style scoped>\n",
       "    .dataframe tbody tr th:only-of-type {\n",
       "        vertical-align: middle;\n",
       "    }\n",
       "\n",
       "    .dataframe tbody tr th {\n",
       "        vertical-align: top;\n",
       "    }\n",
       "\n",
       "    .dataframe thead th {\n",
       "        text-align: right;\n",
       "    }\n",
       "</style>\n",
       "<table border=\"1\" class=\"dataframe\">\n",
       "  <thead>\n",
       "    <tr style=\"text-align: right;\">\n",
       "      <th></th>\n",
       "      <th>Region</th>\n",
       "      <th>Place name</th>\n",
       "      <th>Place type</th>\n",
       "      <th>Price</th>\n",
       "      <th>Delivery option</th>\n",
       "      <th>Dine in option</th>\n",
       "      <th>Takeout option</th>\n",
       "    </tr>\n",
       "  </thead>\n",
       "  <tbody>\n",
       "    <tr>\n",
       "      <th>count</th>\n",
       "      <td>200</td>\n",
       "      <td>200</td>\n",
       "      <td>200</td>\n",
       "      <td>200</td>\n",
       "      <td>200</td>\n",
       "      <td>200</td>\n",
       "      <td>200</td>\n",
       "    </tr>\n",
       "    <tr>\n",
       "      <th>unique</th>\n",
       "      <td>10</td>\n",
       "      <td>187</td>\n",
       "      <td>14</td>\n",
       "      <td>3</td>\n",
       "      <td>2</td>\n",
       "      <td>1</td>\n",
       "      <td>1</td>\n",
       "    </tr>\n",
       "    <tr>\n",
       "      <th>top</th>\n",
       "      <td>Kharkiv</td>\n",
       "      <td>Dim Kavy</td>\n",
       "      <td>Coffee shop</td>\n",
       "      <td>$$</td>\n",
       "      <td>False</td>\n",
       "      <td>True</td>\n",
       "      <td>True</td>\n",
       "    </tr>\n",
       "    <tr>\n",
       "      <th>freq</th>\n",
       "      <td>20</td>\n",
       "      <td>4</td>\n",
       "      <td>97</td>\n",
       "      <td>194</td>\n",
       "      <td>165</td>\n",
       "      <td>200</td>\n",
       "      <td>200</td>\n",
       "    </tr>\n",
       "  </tbody>\n",
       "</table>\n",
       "</div>"
      ],
      "text/plain": [
       "         Region Place name   Place type Price Delivery option Dine in option  \\\n",
       "count       200        200          200   200             200            200   \n",
       "unique       10        187           14     3               2              1   \n",
       "top     Kharkiv   Dim Kavy  Coffee shop    $$           False           True   \n",
       "freq         20          4           97   194             165            200   \n",
       "\n",
       "       Takeout option  \n",
       "count             200  \n",
       "unique              1  \n",
       "top              True  \n",
       "freq              200  "
      ]
     },
     "execution_count": 9,
     "metadata": {},
     "output_type": "execute_result"
    }
   ],
   "source": [
    "data.describe(include='object')"
   ]
  },
  {
   "cell_type": "code",
   "execution_count": 10,
   "metadata": {},
   "outputs": [
    {
     "name": "stdout",
     "output_type": "stream",
     "text": [
      "Kharkiv        20\n",
      "Zaporozhye     20\n",
      "Dnipro         20\n",
      "Kiev           20\n",
      "Kherson        20\n",
      "Khrivoy Rog    20\n",
      "Lviv           20\n",
      "Odessa         20\n",
      "Poltava        20\n",
      "Mariupol       20\n",
      "Name: Region, dtype: int64\n",
      "Dim Kavy                   4\n",
      "Coffee House               3\n",
      "coffee House               3\n",
      "SV Кафе                    2\n",
      "MY COFFEE                  2\n",
      "                          ..\n",
      "Lviv Handmade Chocolate    1\n",
      "Saturdays Coffee Цирк      1\n",
      "Бамбук                     1\n",
      "Ob'yektna Kava             1\n",
      "Tea, Coffee Shop           1\n",
      "Name: Place name, Length: 187, dtype: int64\n",
      "Coffee shop                 97\n",
      "Cafe                        58\n",
      "Espresso bar                20\n",
      "Coffee store                11\n",
      "Store                        3\n",
      "Coffee roasters              2\n",
      "Pastry shop                  2\n",
      "E-commerce service           1\n",
      "Chocolate shop               1\n",
      "Restaurant                   1\n",
      "Internet shop                1\n",
      "European restaurant          1\n",
      "Appliance repair service     1\n",
      "Coffee stand                 1\n",
      "Name: Place type, dtype: int64\n",
      "$$     194\n",
      "$$$      4\n",
      "$        2\n",
      "Name: Price, dtype: int64\n",
      "False    165\n",
      "True      35\n",
      "Name: Delivery option, dtype: int64\n",
      "True    200\n",
      "Name: Dine in option, dtype: int64\n",
      "True    200\n",
      "Name: Takeout option, dtype: int64\n"
     ]
    }
   ],
   "source": [
    "for col in cat_cols:\n",
    "    print(data[col].value_counts() , end='\\n')"
   ]
  },
  {
   "cell_type": "markdown",
   "metadata": {},
   "source": [
    "- There are 10  different regions in the dataset and each region with 20 rows observations. \n",
    "- There are 14 different Place Type, some seems to be not well represented.\n",
    "- There are  187 unique shop names the most frequent is **Coffe House** with 6 shops then **Dim Kavy** with 4 shops,.\n",
    "- All shops offer Dine in and Takeout options.\n",
    "- Most of the shops do not deliver.\n",
    "- Most of the shop are with affordable price."
   ]
  },
  {
   "cell_type": "markdown",
   "metadata": {},
   "source": [
    "##### Transforming Place type and Price Columns "
   ]
  },
  {
   "cell_type": "code",
   "execution_count": 4,
   "metadata": {},
   "outputs": [
    {
     "name": "stdout",
     "output_type": "stream",
     "text": [
      "affordable    194\n",
      "expensive       4\n",
      "cheap           2\n",
      "Name: Price, dtype: int64\n",
      "Coffee shop     108\n",
      "Cafe             58\n",
      "Espresso bar     20\n",
      "Other            14\n",
      "Name: Place type, dtype: int64\n"
     ]
    }
   ],
   "source": [
    "\n",
    "data['Price'] = data['Price'].replace({'$':'cheap','$$':'affordable','$$$':'expensive'}) \n",
    "data['Place type'] = data['Place type'].replace({'Store': 'Other',\n",
    "                            'Pastry shop': 'Other',\n",
    "                            'Coffee roasters': 'Other',\n",
    "                            'Appliance repair service': 'Other',\n",
    "                            'Internet shop': 'Other',\n",
    "                            'Restaurant': 'Other',\n",
    "                            'Coffee stand': 'Other',\n",
    "                            'Chocolate shop': 'Other',\n",
    "                            'European restaurant': 'Other',\n",
    "                            'E-commerce service': 'Other',\n",
    "                            'Coffee store':'Coffee shop'})\n",
    "print(data['Price'].value_counts())\n",
    "print(data['Place type'].value_counts())"
   ]
  },
  {
   "cell_type": "markdown",
   "metadata": {},
   "source": [
    "### Data Exploration with Plots and Graphs:"
   ]
  },
  {
   "cell_type": "markdown",
   "metadata": {},
   "source": [
    "- As we saw, all the shops offer a Dine in and take out options, so in the analysis below we will focus more on the other numerical and categorical features."
   ]
  },
  {
   "cell_type": "code",
   "execution_count": 62,
   "metadata": {},
   "outputs": [
    {
     "data": {
      "text/plain": [
       "<AxesSubplot:xlabel='Reviews'>"
      ]
     },
     "execution_count": 62,
     "metadata": {},
     "output_type": "execute_result"
    },
    {
     "data": {
      "image/png": "[encoded data removed]",
      "text/plain": [
       "<Figure size 720x360 with 1 Axes>"
      ]
     },
     "metadata": {
      "needs_background": "light"
     },
     "output_type": "display_data"
    }
   ],
   "source": [
    "plt.figure(figsize=(10,5))\n",
    "sns.boxplot(data=data,x='Reviews')"
   ]
  },
  {
   "cell_type": "code",
   "execution_count": 5,
   "metadata": {},
   "outputs": [
    {
     "data": {
      "text/html": [
       "<div>\n",
       "<style scoped>\n",
       "    .dataframe tbody tr th:only-of-type {\n",
       "        vertical-align: middle;\n",
       "    }\n",
       "\n",
       "    .dataframe tbody tr th {\n",
       "        vertical-align: top;\n",
       "    }\n",
       "\n",
       "    .dataframe thead th {\n",
       "        text-align: right;\n",
       "    }\n",
       "</style>\n",
       "<table border=\"1\" class=\"dataframe\">\n",
       "  <thead>\n",
       "    <tr style=\"text-align: right;\">\n",
       "      <th></th>\n",
       "      <th>Region</th>\n",
       "      <th>Place name</th>\n",
       "      <th>Place type</th>\n",
       "      <th>Price</th>\n",
       "      <th>Delivery option</th>\n",
       "      <th>Dine in option</th>\n",
       "      <th>Takeout option</th>\n",
       "      <th>Rating</th>\n",
       "      <th>Reviews</th>\n",
       "    </tr>\n",
       "  </thead>\n",
       "  <tbody>\n",
       "    <tr>\n",
       "      <th>0</th>\n",
       "      <td>Mariupol</td>\n",
       "      <td>Dim Kavu</td>\n",
       "      <td>Coffee shop</td>\n",
       "      <td>affordable</td>\n",
       "      <td>False</td>\n",
       "      <td>True</td>\n",
       "      <td>True</td>\n",
       "      <td>4.6</td>\n",
       "      <td>206.0</td>\n",
       "    </tr>\n",
       "    <tr>\n",
       "      <th>1</th>\n",
       "      <td>Mariupol</td>\n",
       "      <td>Коферум</td>\n",
       "      <td>Cafe</td>\n",
       "      <td>affordable</td>\n",
       "      <td>False</td>\n",
       "      <td>True</td>\n",
       "      <td>True</td>\n",
       "      <td>5.0</td>\n",
       "      <td>24.0</td>\n",
       "    </tr>\n",
       "    <tr>\n",
       "      <th>2</th>\n",
       "      <td>Mariupol</td>\n",
       "      <td>Кофейня Світ Чаю</td>\n",
       "      <td>Coffee shop</td>\n",
       "      <td>affordable</td>\n",
       "      <td>False</td>\n",
       "      <td>True</td>\n",
       "      <td>True</td>\n",
       "      <td>5.0</td>\n",
       "      <td>11.0</td>\n",
       "    </tr>\n",
       "    <tr>\n",
       "      <th>3</th>\n",
       "      <td>Mariupol</td>\n",
       "      <td>Кофейня Starcoff</td>\n",
       "      <td>Coffee shop</td>\n",
       "      <td>affordable</td>\n",
       "      <td>False</td>\n",
       "      <td>True</td>\n",
       "      <td>True</td>\n",
       "      <td>4.4</td>\n",
       "      <td>331.0</td>\n",
       "    </tr>\n",
       "    <tr>\n",
       "      <th>4</th>\n",
       "      <td>Mariupol</td>\n",
       "      <td>Кофейня \"Friend Zone\"</td>\n",
       "      <td>Coffee shop</td>\n",
       "      <td>affordable</td>\n",
       "      <td>False</td>\n",
       "      <td>True</td>\n",
       "      <td>True</td>\n",
       "      <td>5.0</td>\n",
       "      <td>12.0</td>\n",
       "    </tr>\n",
       "    <tr>\n",
       "      <th>...</th>\n",
       "      <td>...</td>\n",
       "      <td>...</td>\n",
       "      <td>...</td>\n",
       "      <td>...</td>\n",
       "      <td>...</td>\n",
       "      <td>...</td>\n",
       "      <td>...</td>\n",
       "      <td>...</td>\n",
       "      <td>...</td>\n",
       "    </tr>\n",
       "    <tr>\n",
       "      <th>195</th>\n",
       "      <td>Dnipro</td>\n",
       "      <td>Artist</td>\n",
       "      <td>Other</td>\n",
       "      <td>expensive</td>\n",
       "      <td>False</td>\n",
       "      <td>True</td>\n",
       "      <td>True</td>\n",
       "      <td>4.6</td>\n",
       "      <td>963.0</td>\n",
       "    </tr>\n",
       "    <tr>\n",
       "      <th>196</th>\n",
       "      <td>Dnipro</td>\n",
       "      <td>Dream Cafe</td>\n",
       "      <td>Cafe</td>\n",
       "      <td>affordable</td>\n",
       "      <td>False</td>\n",
       "      <td>True</td>\n",
       "      <td>True</td>\n",
       "      <td>4.3</td>\n",
       "      <td>646.0</td>\n",
       "    </tr>\n",
       "    <tr>\n",
       "      <th>197</th>\n",
       "      <td>Dnipro</td>\n",
       "      <td>РУТА КАФЕ ПП КУЛІЧЕНКО К.І.</td>\n",
       "      <td>Cafe</td>\n",
       "      <td>affordable</td>\n",
       "      <td>False</td>\n",
       "      <td>True</td>\n",
       "      <td>True</td>\n",
       "      <td>4.6</td>\n",
       "      <td>16.0</td>\n",
       "    </tr>\n",
       "    <tr>\n",
       "      <th>198</th>\n",
       "      <td>Dnipro</td>\n",
       "      <td>Ob'yektna Kava</td>\n",
       "      <td>Coffee shop</td>\n",
       "      <td>affordable</td>\n",
       "      <td>False</td>\n",
       "      <td>True</td>\n",
       "      <td>True</td>\n",
       "      <td>4.7</td>\n",
       "      <td>599.0</td>\n",
       "    </tr>\n",
       "    <tr>\n",
       "      <th>199</th>\n",
       "      <td>Dnipro</td>\n",
       "      <td>О...МАРАТ КАФЕ ПП ПОЛІСТЕП</td>\n",
       "      <td>Cafe</td>\n",
       "      <td>affordable</td>\n",
       "      <td>False</td>\n",
       "      <td>True</td>\n",
       "      <td>True</td>\n",
       "      <td>4.3</td>\n",
       "      <td>341.0</td>\n",
       "    </tr>\n",
       "  </tbody>\n",
       "</table>\n",
       "<p>199 rows × 9 columns</p>\n",
       "</div>"
      ],
      "text/plain": [
       "       Region                   Place name   Place type       Price  \\\n",
       "0    Mariupol                     Dim Kavu  Coffee shop  affordable   \n",
       "1    Mariupol                      Коферум         Cafe  affordable   \n",
       "2    Mariupol             Кофейня Світ Чаю  Coffee shop  affordable   \n",
       "3    Mariupol             Кофейня Starcoff  Coffee shop  affordable   \n",
       "4    Mariupol        Кофейня \"Friend Zone\"  Coffee shop  affordable   \n",
       "..        ...                          ...          ...         ...   \n",
       "195    Dnipro                       Artist        Other   expensive   \n",
       "196    Dnipro                   Dream Cafe         Cafe  affordable   \n",
       "197    Dnipro  РУТА КАФЕ ПП КУЛІЧЕНКО К.І.         Cafe  affordable   \n",
       "198    Dnipro               Ob'yektna Kava  Coffee shop  affordable   \n",
       "199    Dnipro   О...МАРАТ КАФЕ ПП ПОЛІСТЕП         Cafe  affordable   \n",
       "\n",
       "    Delivery option Dine in option Takeout option  Rating  Reviews  \n",
       "0             False           True           True     4.6    206.0  \n",
       "1             False           True           True     5.0     24.0  \n",
       "2             False           True           True     5.0     11.0  \n",
       "3             False           True           True     4.4    331.0  \n",
       "4             False           True           True     5.0     12.0  \n",
       "..              ...            ...            ...     ...      ...  \n",
       "195           False           True           True     4.6    963.0  \n",
       "196           False           True           True     4.3    646.0  \n",
       "197           False           True           True     4.6     16.0  \n",
       "198           False           True           True     4.7    599.0  \n",
       "199           False           True           True     4.3    341.0  \n",
       "\n",
       "[199 rows x 9 columns]"
      ]
     },
     "execution_count": 5,
     "metadata": {},
     "output_type": "execute_result"
    }
   ],
   "source": [
    "data  = data[data.Reviews != data.Reviews.max()]\n",
    "data"
   ]
  },
  {
   "cell_type": "markdown",
   "metadata": {},
   "source": [
    "- We found that there is an outlier need to be removed from the dataset"
   ]
  },
  {
   "cell_type": "code",
   "execution_count": 14,
   "metadata": {},
   "outputs": [
    {
     "data": {
      "text/plain": [
       "<AxesSubplot:xlabel='Rating'>"
      ]
     },
     "execution_count": 14,
     "metadata": {},
     "output_type": "execute_result"
    },
    {
     "data": {
      "image/png": "[encoded data removed]",
      "text/plain": [
       "<Figure size 720x360 with 1 Axes>"
      ]
     },
     "metadata": {
      "needs_background": "light"
     },
     "output_type": "display_data"
    }
   ],
   "source": [
    "plt.figure(figsize=(10,5))\n",
    "sns.boxplot(data=data,x='Rating')"
   ]
  },
  {
   "cell_type": "markdown",
   "metadata": {},
   "source": [
    "-  There are some outliers but they are acceptable and will  not affect the analysis "
   ]
  },
  {
   "cell_type": "code",
   "execution_count": 15,
   "metadata": {},
   "outputs": [
    {
     "data": {
      "image/png": "[encoded data removed]",
      "text/plain": [
       "<Figure size 720x432 with 1 Axes>"
      ]
     },
     "metadata": {
      "needs_background": "light"
     },
     "output_type": "display_data"
    }
   ],
   "source": [
    "plt.figure(figsize=(10,6))\n",
    "sns.scatterplot(x='Reviews',y='Rating',data=data)\n",
    "plt.title('\\n\\n Relationship between Reviews and Rating \\n\\n')\n",
    "plt.show()"
   ]
  },
  {
   "cell_type": "markdown",
   "metadata": {},
   "source": [
    "##### Numerical Features vs Each Categorical Features"
   ]
  },
  {
   "cell_type": "code",
   "execution_count": 75,
   "metadata": {},
   "outputs": [
    {
     "data": {
      "image/png": "[encoded data removed]",
      "text/plain": [
       "<Figure size 720x432 with 1 Axes>"
      ]
     },
     "metadata": {
      "needs_background": "light"
     },
     "output_type": "display_data"
    }
   ],
   "source": [
    "plt.figure(figsize=(10,6))\n",
    "sns.scatterplot(x = 'Reviews', y = 'Rating', hue = 'Price', data = data)\n",
    "plt.title('\\n\\n Relationship between Reviews and Rating vs Price type \\n\\n')\n",
    "plt.savefig(f'images/ReviewsRatingVsPricetype.png')\n",
    "plt.show()"
   ]
  },
  {
   "cell_type": "markdown",
   "metadata": {},
   "source": [
    "- As mentionned in the exploration above most of the shops are with affordable prices and from this plot we observe that they are the shops the highest rated, and the expensive are rated lower. "
   ]
  },
  {
   "cell_type": "code",
   "execution_count": 76,
   "metadata": {},
   "outputs": [
    {
     "data": {
      "image/png": "[encoded data removed]",
      "text/plain": [
       "<Figure size 720x432 with 1 Axes>"
      ]
     },
     "metadata": {
      "needs_background": "light"
     },
     "output_type": "display_data"
    }
   ],
   "source": [
    "plt.figure(figsize=(10,6))\n",
    "sns.scatterplot(x = 'Reviews', y = 'Rating', hue = 'Place type', data = data)\n",
    "plt.title('\\n\\nRelationship between Reviews and Rating vs Place type type\\n\\n ')\n",
    "plt.savefig(f'images/ReviewsRatingVsPlacetype.png')\n",
    "plt.show()"
   ]
  },
  {
   "cell_type": "markdown",
   "metadata": {},
   "source": [
    "- Also  We observe that coffe shops are the highest rated followed by the Espresso bars."
   ]
  },
  {
   "cell_type": "code",
   "execution_count": 77,
   "metadata": {},
   "outputs": [
    {
     "data": {
      "image/png": "[encoded data removed]",
      "text/plain": [
       "<Figure size 720x432 with 1 Axes>"
      ]
     },
     "metadata": {
      "needs_background": "light"
     },
     "output_type": "display_data"
    }
   ],
   "source": [
    "plt.figure(figsize=(10,6))\n",
    "sns.scatterplot(x = 'Reviews', y = 'Rating', hue = 'Delivery option', data = data)\n",
    "plt.title('\\n\\nRelationship between Reviews and Rating vs Delivery option\\n\\n ')\n",
    "plt.savefig(f'images/ReviewsRatingVsDeliveryoption.png')\n",
    "plt.show()"
   ]
  },
  {
   "cell_type": "markdown",
   "metadata": {},
   "source": [
    " - Even of the small number of shops that offer a delivery option we observe that most of them  are highly rated."
   ]
  },
  {
   "cell_type": "markdown",
   "metadata": {},
   "source": [
    "##### Region vs Other Features"
   ]
  },
  {
   "cell_type": "code",
   "execution_count": 78,
   "metadata": {},
   "outputs": [
    {
     "data": {
      "text/plain": [
       "Text(0.5, 1.0, '\\nRegion vs Place type\\n\\n ')"
      ]
     },
     "execution_count": 78,
     "metadata": {},
     "output_type": "execute_result"
    },
    {
     "data": {
      "image/png": "[encoded data removed]",
      "text/plain": [
       "<Figure size 864x576 with 1 Axes>"
      ]
     },
     "metadata": {
      "needs_background": "light"
     },
     "output_type": "display_data"
    }
   ],
   "source": [
    "plt.figure(figsize=(12,8))\n",
    "sns.countplot(y = 'Region', hue = 'Place type', data = data)\n",
    "plt.savefig(f'images/RegionVsPlacetype.png')\n",
    "plt.title('\\nRegion vs Place type\\n\\n ' )    "
   ]
  },
  {
   "cell_type": "markdown",
   "metadata": {},
   "source": [
    "- AS  we know the coffee shop are the most exsisted in our dataset and it located in all the regions but we observe that it locate more in **Kharkiv** region, we observe also that Espresso bars exists the most in **Zaporozhye** and **Kiev**, and cafe is located more in **Khrivoy Rog**."
   ]
  },
  {
   "cell_type": "code",
   "execution_count": 79,
   "metadata": {},
   "outputs": [
    {
     "data": {
      "image/png": "[encoded data removed]",
      "text/plain": [
       "<Figure size 864x576 with 1 Axes>"
      ]
     },
     "metadata": {
      "needs_background": "light"
     },
     "output_type": "display_data"
    }
   ],
   "source": [
    "plt.figure(figsize=(12,8))\n",
    "sns.countplot(x = 'Region', hue = 'Price', data = data)\n",
    "plt.savefig(f'images/RegionVsPrice.png')\n",
    "plt.title('\\nRegion vs Price type\\n\\n ' ) \n",
    "plt.show()"
   ]
  },
  {
   "cell_type": "markdown",
   "metadata": {},
   "source": [
    "- Affordable prices are the most frequent across all regions, we observe that **Mariupol** and **Kiev** are the only 2 regions that have shops with cheap prices,  and **Poltava**, **Khrivoy rog** and **Dinipro** are with the only regions with expensive prices."
   ]
  },
  {
   "cell_type": "code",
   "execution_count": 80,
   "metadata": {},
   "outputs": [
    {
     "data": {
      "text/plain": [
       "Text(0.5, 1.0, '\\nRegion vs Delivery option\\n\\n ')"
      ]
     },
     "execution_count": 80,
     "metadata": {},
     "output_type": "execute_result"
    },
    {
     "data": {
      "image/png": "[encoded data removed]",
      "text/plain": [
       "<Figure size 864x576 with 1 Axes>"
      ]
     },
     "metadata": {
      "needs_background": "light"
     },
     "output_type": "display_data"
    }
   ],
   "source": [
    "plt.figure(figsize=(12,8))\n",
    "sns.countplot(x = 'Region', hue = 'Delivery option', data = data)\n",
    "plt.savefig(f'images/RegionVsDelivery.png')\n",
    "plt.title('\\nRegion vs Delivery option\\n\\n ' ) "
   ]
  },
  {
   "cell_type": "markdown",
   "metadata": {},
   "source": [
    "- As the Take out and the dine in option also most of shops in all regions offer delivery option."
   ]
  },
  {
   "cell_type": "markdown",
   "metadata": {},
   "source": [
    "# Exploratory Data Analysis Summary\n",
    "The dataset consists of 200 samples and it is not large enough for the analysis, there are some features with missing values filled with the mean or the mode, and there are no duplicates. There are categorical data need encoding, and the other numerical features need to be scaled. From the analysis we found that the shops the most commun across all regions are the coffee shops and most of them are highly rated, reviewed, with affordable prices and offer delivery, take out and dine in options."
   ]
  },
  {
   "cell_type": "markdown",
   "metadata": {},
   "source": [
    "# Model Developement\n",
    "For this problem a clustering algorithm will perfom well, in our case we will use K-means Cluster Algorithm, to find the optimum number of clusters we will use the Elbow method. Before modelling categorical features will be encoded and transformed using On Hot Encoder and the numerical features will be scaled using the Standard Scaler.Then we will analyse our findings."
   ]
  },
  {
   "cell_type": "markdown",
   "metadata": {},
   "source": [
    "#### Importing needed packages"
   ]
  },
  {
   "cell_type": "code",
   "execution_count": 7,
   "metadata": {},
   "outputs": [],
   "source": [
    "from sklearn.cluster import KMeans\n",
    "from sklearn.preprocessing import StandardScaler, OneHotEncoder"
   ]
  },
  {
   "cell_type": "markdown",
   "metadata": {},
   "source": [
    "#### Perform One Hot Encoding for categorical features on both train and test data"
   ]
  },
  {
   "cell_type": "code",
   "execution_count": 8,
   "metadata": {},
   "outputs": [],
   "source": [
    "OH_encoder = OneHotEncoder(handle_unknown='ignore', sparse=False)\n",
    "\n",
    "cat_cols = [cname for cname in cat_cols if data[cname].nunique() < 10 ]\n",
    "#perform one hot encoding to categorical features\n",
    "OH_data = pd.DataFrame(OH_encoder.fit_transform(data[cat_cols]))\n",
    "\n",
    "# One-hot encoding removed index we will put it back\n",
    "OH_data.index = data.index\n",
    "\n",
    "#renaming columns \n",
    "OH_data.columns = OH_encoder.get_feature_names(cat_cols)\n",
    "\n",
    "# Remove categorical columns (will replace with one-hot encoding)\n",
    "num_data = data.drop(data.select_dtypes(include=\"object\"), axis=1)"
   ]
  },
  {
   "cell_type": "markdown",
   "metadata": {},
   "source": [
    "#### Scaling the numerical features "
   ]
  },
  {
   "cell_type": "code",
   "execution_count": 9,
   "metadata": {},
   "outputs": [],
   "source": [
    "scaler = StandardScaler()\n",
    "\n",
    "# using a loop to standardize only the numeric columns\n",
    "for col in num_data.columns:\n",
    "    num_data[col] = scaler.fit_transform(num_data[[col]])"
   ]
  },
  {
   "cell_type": "code",
   "execution_count": 10,
   "metadata": {},
   "outputs": [
    {
     "data": {
      "text/plain": [
       "(199, 13)"
      ]
     },
     "execution_count": 10,
     "metadata": {},
     "output_type": "execute_result"
    }
   ],
   "source": [
    "OH_full_data = pd.concat([ OH_data,num_data], axis=1)\n",
    "OH_full_data.shape"
   ]
  },
  {
   "cell_type": "code",
   "execution_count": 68,
   "metadata": {},
   "outputs": [
    {
     "data": {
      "text/html": [
       "<div>\n",
       "<style scoped>\n",
       "    .dataframe tbody tr th:only-of-type {\n",
       "        vertical-align: middle;\n",
       "    }\n",
       "\n",
       "    .dataframe tbody tr th {\n",
       "        vertical-align: top;\n",
       "    }\n",
       "\n",
       "    .dataframe thead th {\n",
       "        text-align: right;\n",
       "    }\n",
       "</style>\n",
       "<table border=\"1\" class=\"dataframe\">\n",
       "  <thead>\n",
       "    <tr style=\"text-align: right;\">\n",
       "      <th></th>\n",
       "      <th>Place type_Cafe</th>\n",
       "      <th>Place type_Coffee shop</th>\n",
       "      <th>Place type_Espresso bar</th>\n",
       "      <th>Place type_Other</th>\n",
       "      <th>Price_affordable</th>\n",
       "      <th>Price_cheap</th>\n",
       "      <th>Price_expensive</th>\n",
       "      <th>Delivery option_False</th>\n",
       "      <th>Delivery option_True</th>\n",
       "      <th>Dine in option_True</th>\n",
       "      <th>Takeout option_True</th>\n",
       "      <th>Rating</th>\n",
       "      <th>Reviews</th>\n",
       "    </tr>\n",
       "  </thead>\n",
       "  <tbody>\n",
       "    <tr>\n",
       "      <th>0</th>\n",
       "      <td>0.0</td>\n",
       "      <td>1.0</td>\n",
       "      <td>0.0</td>\n",
       "      <td>0.0</td>\n",
       "      <td>1.0</td>\n",
       "      <td>0.0</td>\n",
       "      <td>0.0</td>\n",
       "      <td>1.0</td>\n",
       "      <td>0.0</td>\n",
       "      <td>1.0</td>\n",
       "      <td>1.0</td>\n",
       "      <td>-0.289283</td>\n",
       "      <td>-0.299561</td>\n",
       "    </tr>\n",
       "    <tr>\n",
       "      <th>1</th>\n",
       "      <td>1.0</td>\n",
       "      <td>0.0</td>\n",
       "      <td>0.0</td>\n",
       "      <td>0.0</td>\n",
       "      <td>1.0</td>\n",
       "      <td>0.0</td>\n",
       "      <td>0.0</td>\n",
       "      <td>1.0</td>\n",
       "      <td>0.0</td>\n",
       "      <td>1.0</td>\n",
       "      <td>1.0</td>\n",
       "      <td>1.529069</td>\n",
       "      <td>-0.430463</td>\n",
       "    </tr>\n",
       "    <tr>\n",
       "      <th>2</th>\n",
       "      <td>0.0</td>\n",
       "      <td>1.0</td>\n",
       "      <td>0.0</td>\n",
       "      <td>0.0</td>\n",
       "      <td>1.0</td>\n",
       "      <td>0.0</td>\n",
       "      <td>0.0</td>\n",
       "      <td>1.0</td>\n",
       "      <td>0.0</td>\n",
       "      <td>1.0</td>\n",
       "      <td>1.0</td>\n",
       "      <td>1.529069</td>\n",
       "      <td>-0.439813</td>\n",
       "    </tr>\n",
       "    <tr>\n",
       "      <th>3</th>\n",
       "      <td>0.0</td>\n",
       "      <td>1.0</td>\n",
       "      <td>0.0</td>\n",
       "      <td>0.0</td>\n",
       "      <td>1.0</td>\n",
       "      <td>0.0</td>\n",
       "      <td>0.0</td>\n",
       "      <td>1.0</td>\n",
       "      <td>0.0</td>\n",
       "      <td>1.0</td>\n",
       "      <td>1.0</td>\n",
       "      <td>-1.198460</td>\n",
       "      <td>-0.209655</td>\n",
       "    </tr>\n",
       "    <tr>\n",
       "      <th>4</th>\n",
       "      <td>0.0</td>\n",
       "      <td>1.0</td>\n",
       "      <td>0.0</td>\n",
       "      <td>0.0</td>\n",
       "      <td>1.0</td>\n",
       "      <td>0.0</td>\n",
       "      <td>0.0</td>\n",
       "      <td>1.0</td>\n",
       "      <td>0.0</td>\n",
       "      <td>1.0</td>\n",
       "      <td>1.0</td>\n",
       "      <td>1.529069</td>\n",
       "      <td>-0.439094</td>\n",
       "    </tr>\n",
       "  </tbody>\n",
       "</table>\n",
       "</div>"
      ],
      "text/plain": [
       "   Place type_Cafe  Place type_Coffee shop  Place type_Espresso bar  \\\n",
       "0              0.0                     1.0                      0.0   \n",
       "1              1.0                     0.0                      0.0   \n",
       "2              0.0                     1.0                      0.0   \n",
       "3              0.0                     1.0                      0.0   \n",
       "4              0.0                     1.0                      0.0   \n",
       "\n",
       "   Place type_Other  Price_affordable  Price_cheap  Price_expensive  \\\n",
       "0               0.0               1.0          0.0              0.0   \n",
       "1               0.0               1.0          0.0              0.0   \n",
       "2               0.0               1.0          0.0              0.0   \n",
       "3               0.0               1.0          0.0              0.0   \n",
       "4               0.0               1.0          0.0              0.0   \n",
       "\n",
       "   Delivery option_False  Delivery option_True  Dine in option_True  \\\n",
       "0                    1.0                   0.0                  1.0   \n",
       "1                    1.0                   0.0                  1.0   \n",
       "2                    1.0                   0.0                  1.0   \n",
       "3                    1.0                   0.0                  1.0   \n",
       "4                    1.0                   0.0                  1.0   \n",
       "\n",
       "   Takeout option_True    Rating   Reviews  \n",
       "0                  1.0 -0.289283 -0.299561  \n",
       "1                  1.0  1.529069 -0.430463  \n",
       "2                  1.0  1.529069 -0.439813  \n",
       "3                  1.0 -1.198460 -0.209655  \n",
       "4                  1.0  1.529069 -0.439094  "
      ]
     },
     "execution_count": 68,
     "metadata": {},
     "output_type": "execute_result"
    }
   ],
   "source": [
    "OH_full_data.head()"
   ]
  },
  {
   "cell_type": "markdown",
   "metadata": {},
   "source": [
    "- Our full  data is with 24 columns after performing the One Hot Encoder on the categorical features and Scaling the numerical features."
   ]
  },
  {
   "cell_type": "markdown",
   "metadata": {},
   "source": [
    "#### ELbow Method"
   ]
  },
  {
   "cell_type": "code",
   "execution_count": 46,
   "metadata": {},
   "outputs": [
    {
     "data": {
      "text/plain": [
       "[<matplotlib.lines.Line2D at 0x7f9628d07520>]"
      ]
     },
     "execution_count": 46,
     "metadata": {},
     "output_type": "execute_result"
    },
    {
     "data": {
      "image/png": "[encoded data removed]",
      "text/plain": [
       "<Figure size 432x288 with 1 Axes>"
      ]
     },
     "metadata": {
      "needs_background": "light"
     },
     "output_type": "display_data"
    }
   ],
   "source": [
    "k_range = range(1, 9)\n",
    "inertia = []\n",
    "for i in k_range:\n",
    "    km_cluster = KMeans(n_clusters = i, random_state = 42,init='k-means++')\n",
    "    km_cluster.fit(OH_full_data)\n",
    "    inertia.append(km_cluster.inertia_)\n",
    "plt.plot(k_range,inertia)"
   ]
  },
  {
   "cell_type": "markdown",
   "metadata": {},
   "source": [
    "- From the elbow method the optimum number of clustlers is 5."
   ]
  },
  {
   "cell_type": "markdown",
   "metadata": {},
   "source": [
    "#### Perform K-Mean clustler"
   ]
  },
  {
   "cell_type": "code",
   "execution_count": 25,
   "metadata": {},
   "outputs": [
    {
     "data": {
      "text/plain": [
       "KMeans(n_clusters=5, random_state=42)"
      ]
     },
     "execution_count": 25,
     "metadata": {},
     "output_type": "execute_result"
    }
   ],
   "source": [
    "km_cluster = KMeans(n_clusters = 5, random_state = 42,init='k-means++')\n",
    "km_cluster.fit(OH_full_data)"
   ]
  },
  {
   "cell_type": "code",
   "execution_count": 26,
   "metadata": {},
   "outputs": [
    {
     "name": "stdout",
     "output_type": "stream",
     "text": [
      "[[ 0.00000000e+00  1.00000000e+00  0.00000000e+00 -2.77555756e-17\n",
      "   1.00000000e+00 -1.73472348e-18 -3.46944695e-18  8.85245902e-01\n",
      "   1.14754098e-01  1.00000000e+00  1.00000000e+00 -3.12756092e-01\n",
      "  -2.06434015e-01]\n",
      " [ 2.81250000e-01  4.37500000e-01  1.56250000e-01  1.25000000e-01\n",
      "   9.37500000e-01  3.12500000e-02  3.12500000e-02  5.93750000e-01\n",
      "   4.06250000e-01  1.00000000e+00  1.00000000e+00 -2.45236531e-01\n",
      "   1.94486724e+00]\n",
      " [ 6.76470588e-01  0.00000000e+00  2.35294118e-01  8.82352941e-02\n",
      "   9.11764706e-01  2.94117647e-02  5.88235294e-02  7.64705882e-01\n",
      "   2.35294118e-01  1.00000000e+00  1.00000000e+00 -1.99236664e-01\n",
      "  -2.29044890e-01]\n",
      " [ 8.66666667e-01  1.33333333e-01  0.00000000e+00  2.77555756e-17\n",
      "   9.33333333e-01  1.73472348e-18  6.66666667e-02  9.33333333e-01\n",
      "   6.66666667e-02  1.00000000e+00  1.00000000e+00 -2.10167597e+00\n",
      "  -9.83860662e-02]\n",
      " [ 2.28070175e-01  5.26315789e-01  1.22807018e-01  1.22807018e-01\n",
      "   1.00000000e+00  1.73472348e-18  3.46944695e-18  9.12280702e-01\n",
      "   8.77192982e-02  1.00000000e+00  1.00000000e+00  1.14429608e+00\n",
      "  -7.08420340e-01]]\n"
     ]
    }
   ],
   "source": [
    "print(km_cluster.cluster_centers_)"
   ]
  },
  {
   "cell_type": "code",
   "execution_count": 29,
   "metadata": {},
   "outputs": [
    {
     "data": {
      "text/plain": [
       "[0.3446776840756681,\n",
       " 0.5153562080753908,\n",
       " 0.35167064963674055,\n",
       " 0.21537984313712485,\n",
       " 0.41814428801275744]"
      ]
     },
     "execution_count": 29,
     "metadata": {},
     "output_type": "execute_result"
    }
   ],
   "source": [
    "[i.mean() for i in km_cluster.cluster_centers_]"
   ]
  },
  {
   "cell_type": "code",
   "execution_count": 30,
   "metadata": {},
   "outputs": [
    {
     "data": {
      "text/html": [
       "<div>\n",
       "<style scoped>\n",
       "    .dataframe tbody tr th:only-of-type {\n",
       "        vertical-align: middle;\n",
       "    }\n",
       "\n",
       "    .dataframe tbody tr th {\n",
       "        vertical-align: top;\n",
       "    }\n",
       "\n",
       "    .dataframe thead th {\n",
       "        text-align: right;\n",
       "    }\n",
       "</style>\n",
       "<table border=\"1\" class=\"dataframe\">\n",
       "  <thead>\n",
       "    <tr style=\"text-align: right;\">\n",
       "      <th></th>\n",
       "      <th>Region</th>\n",
       "      <th>Place name</th>\n",
       "      <th>Place type</th>\n",
       "      <th>Price</th>\n",
       "      <th>Delivery option</th>\n",
       "      <th>Dine in option</th>\n",
       "      <th>Takeout option</th>\n",
       "      <th>Rating</th>\n",
       "      <th>Reviews</th>\n",
       "      <th>labels</th>\n",
       "    </tr>\n",
       "  </thead>\n",
       "  <tbody>\n",
       "    <tr>\n",
       "      <th>0</th>\n",
       "      <td>Mariupol</td>\n",
       "      <td>Dim Kavu</td>\n",
       "      <td>Coffee shop</td>\n",
       "      <td>affordable</td>\n",
       "      <td>False</td>\n",
       "      <td>True</td>\n",
       "      <td>True</td>\n",
       "      <td>4.6</td>\n",
       "      <td>206.0</td>\n",
       "      <td>0</td>\n",
       "    </tr>\n",
       "    <tr>\n",
       "      <th>1</th>\n",
       "      <td>Mariupol</td>\n",
       "      <td>Коферум</td>\n",
       "      <td>Cafe</td>\n",
       "      <td>affordable</td>\n",
       "      <td>False</td>\n",
       "      <td>True</td>\n",
       "      <td>True</td>\n",
       "      <td>5.0</td>\n",
       "      <td>24.0</td>\n",
       "      <td>4</td>\n",
       "    </tr>\n",
       "    <tr>\n",
       "      <th>2</th>\n",
       "      <td>Mariupol</td>\n",
       "      <td>Кофейня Світ Чаю</td>\n",
       "      <td>Coffee shop</td>\n",
       "      <td>affordable</td>\n",
       "      <td>False</td>\n",
       "      <td>True</td>\n",
       "      <td>True</td>\n",
       "      <td>5.0</td>\n",
       "      <td>11.0</td>\n",
       "      <td>4</td>\n",
       "    </tr>\n",
       "    <tr>\n",
       "      <th>3</th>\n",
       "      <td>Mariupol</td>\n",
       "      <td>Кофейня Starcoff</td>\n",
       "      <td>Coffee shop</td>\n",
       "      <td>affordable</td>\n",
       "      <td>False</td>\n",
       "      <td>True</td>\n",
       "      <td>True</td>\n",
       "      <td>4.4</td>\n",
       "      <td>331.0</td>\n",
       "      <td>0</td>\n",
       "    </tr>\n",
       "    <tr>\n",
       "      <th>4</th>\n",
       "      <td>Mariupol</td>\n",
       "      <td>Кофейня \"Friend Zone\"</td>\n",
       "      <td>Coffee shop</td>\n",
       "      <td>affordable</td>\n",
       "      <td>False</td>\n",
       "      <td>True</td>\n",
       "      <td>True</td>\n",
       "      <td>5.0</td>\n",
       "      <td>12.0</td>\n",
       "      <td>4</td>\n",
       "    </tr>\n",
       "    <tr>\n",
       "      <th>...</th>\n",
       "      <td>...</td>\n",
       "      <td>...</td>\n",
       "      <td>...</td>\n",
       "      <td>...</td>\n",
       "      <td>...</td>\n",
       "      <td>...</td>\n",
       "      <td>...</td>\n",
       "      <td>...</td>\n",
       "      <td>...</td>\n",
       "      <td>...</td>\n",
       "    </tr>\n",
       "    <tr>\n",
       "      <th>195</th>\n",
       "      <td>Dnipro</td>\n",
       "      <td>Artist</td>\n",
       "      <td>Other</td>\n",
       "      <td>expensive</td>\n",
       "      <td>False</td>\n",
       "      <td>True</td>\n",
       "      <td>True</td>\n",
       "      <td>4.6</td>\n",
       "      <td>963.0</td>\n",
       "      <td>2</td>\n",
       "    </tr>\n",
       "    <tr>\n",
       "      <th>196</th>\n",
       "      <td>Dnipro</td>\n",
       "      <td>Dream Cafe</td>\n",
       "      <td>Cafe</td>\n",
       "      <td>affordable</td>\n",
       "      <td>False</td>\n",
       "      <td>True</td>\n",
       "      <td>True</td>\n",
       "      <td>4.3</td>\n",
       "      <td>646.0</td>\n",
       "      <td>3</td>\n",
       "    </tr>\n",
       "    <tr>\n",
       "      <th>197</th>\n",
       "      <td>Dnipro</td>\n",
       "      <td>РУТА КАФЕ ПП КУЛІЧЕНКО К.І.</td>\n",
       "      <td>Cafe</td>\n",
       "      <td>affordable</td>\n",
       "      <td>False</td>\n",
       "      <td>True</td>\n",
       "      <td>True</td>\n",
       "      <td>4.6</td>\n",
       "      <td>16.0</td>\n",
       "      <td>2</td>\n",
       "    </tr>\n",
       "    <tr>\n",
       "      <th>198</th>\n",
       "      <td>Dnipro</td>\n",
       "      <td>Ob'yektna Kava</td>\n",
       "      <td>Coffee shop</td>\n",
       "      <td>affordable</td>\n",
       "      <td>False</td>\n",
       "      <td>True</td>\n",
       "      <td>True</td>\n",
       "      <td>4.7</td>\n",
       "      <td>599.0</td>\n",
       "      <td>0</td>\n",
       "    </tr>\n",
       "    <tr>\n",
       "      <th>199</th>\n",
       "      <td>Dnipro</td>\n",
       "      <td>О...МАРАТ КАФЕ ПП ПОЛІСТЕП</td>\n",
       "      <td>Cafe</td>\n",
       "      <td>affordable</td>\n",
       "      <td>False</td>\n",
       "      <td>True</td>\n",
       "      <td>True</td>\n",
       "      <td>4.3</td>\n",
       "      <td>341.0</td>\n",
       "      <td>3</td>\n",
       "    </tr>\n",
       "  </tbody>\n",
       "</table>\n",
       "<p>199 rows × 10 columns</p>\n",
       "</div>"
      ],
      "text/plain": [
       "       Region                   Place name   Place type       Price  \\\n",
       "0    Mariupol                     Dim Kavu  Coffee shop  affordable   \n",
       "1    Mariupol                      Коферум         Cafe  affordable   \n",
       "2    Mariupol             Кофейня Світ Чаю  Coffee shop  affordable   \n",
       "3    Mariupol             Кофейня Starcoff  Coffee shop  affordable   \n",
       "4    Mariupol        Кофейня \"Friend Zone\"  Coffee shop  affordable   \n",
       "..        ...                          ...          ...         ...   \n",
       "195    Dnipro                       Artist        Other   expensive   \n",
       "196    Dnipro                   Dream Cafe         Cafe  affordable   \n",
       "197    Dnipro  РУТА КАФЕ ПП КУЛІЧЕНКО К.І.         Cafe  affordable   \n",
       "198    Dnipro               Ob'yektna Kava  Coffee shop  affordable   \n",
       "199    Dnipro   О...МАРАТ КАФЕ ПП ПОЛІСТЕП         Cafe  affordable   \n",
       "\n",
       "    Delivery option Dine in option Takeout option  Rating  Reviews  labels  \n",
       "0             False           True           True     4.6    206.0       0  \n",
       "1             False           True           True     5.0     24.0       4  \n",
       "2             False           True           True     5.0     11.0       4  \n",
       "3             False           True           True     4.4    331.0       0  \n",
       "4             False           True           True     5.0     12.0       4  \n",
       "..              ...            ...            ...     ...      ...     ...  \n",
       "195           False           True           True     4.6    963.0       2  \n",
       "196           False           True           True     4.3    646.0       3  \n",
       "197           False           True           True     4.6     16.0       2  \n",
       "198           False           True           True     4.7    599.0       0  \n",
       "199           False           True           True     4.3    341.0       3  \n",
       "\n",
       "[199 rows x 10 columns]"
      ]
     },
     "execution_count": 30,
     "metadata": {},
     "output_type": "execute_result"
    }
   ],
   "source": [
    "data['labels'] = km_cluster.labels_\n",
    "data"
   ]
  },
  {
   "cell_type": "markdown",
   "metadata": {},
   "source": [
    "#### Model analysis"
   ]
  },
  {
   "cell_type": "code",
   "execution_count": 34,
   "metadata": {},
   "outputs": [
    {
     "name": "stdout",
     "output_type": "stream",
     "text": [
      "0 | 61\n",
      "1 | 32\n",
      "2 | 34\n",
      "3 | 15\n",
      "4 | 57\n"
     ]
    }
   ],
   "source": [
    "for i in range(5):\n",
    "    print(i,'|',len(km_cluster.labels_[km_cluster.labels_== i]))"
   ]
  },
  {
   "cell_type": "code",
   "execution_count": 35,
   "metadata": {},
   "outputs": [
    {
     "data": {
      "text/html": [
       "<div>\n",
       "<style scoped>\n",
       "    .dataframe tbody tr th:only-of-type {\n",
       "        vertical-align: middle;\n",
       "    }\n",
       "\n",
       "    .dataframe tbody tr th {\n",
       "        vertical-align: top;\n",
       "    }\n",
       "\n",
       "    .dataframe thead th {\n",
       "        text-align: right;\n",
       "    }\n",
       "</style>\n",
       "<table border=\"1\" class=\"dataframe\">\n",
       "  <thead>\n",
       "    <tr style=\"text-align: right;\">\n",
       "      <th>Region</th>\n",
       "      <th>Dnipro</th>\n",
       "      <th>Kharkiv</th>\n",
       "      <th>Kherson</th>\n",
       "      <th>Khrivoy Rog</th>\n",
       "      <th>Kiev</th>\n",
       "      <th>Lviv</th>\n",
       "      <th>Mariupol</th>\n",
       "      <th>Odessa</th>\n",
       "      <th>Poltava</th>\n",
       "      <th>Zaporozhye</th>\n",
       "    </tr>\n",
       "    <tr>\n",
       "      <th>labels</th>\n",
       "      <th></th>\n",
       "      <th></th>\n",
       "      <th></th>\n",
       "      <th></th>\n",
       "      <th></th>\n",
       "      <th></th>\n",
       "      <th></th>\n",
       "      <th></th>\n",
       "      <th></th>\n",
       "      <th></th>\n",
       "    </tr>\n",
       "  </thead>\n",
       "  <tbody>\n",
       "    <tr>\n",
       "      <th>0</th>\n",
       "      <td>4</td>\n",
       "      <td>12</td>\n",
       "      <td>10</td>\n",
       "      <td>3</td>\n",
       "      <td>2</td>\n",
       "      <td>7</td>\n",
       "      <td>5</td>\n",
       "      <td>7</td>\n",
       "      <td>5</td>\n",
       "      <td>6</td>\n",
       "    </tr>\n",
       "    <tr>\n",
       "      <th>1</th>\n",
       "      <td>3</td>\n",
       "      <td>3</td>\n",
       "      <td>1</td>\n",
       "      <td>1</td>\n",
       "      <td>7</td>\n",
       "      <td>8</td>\n",
       "      <td>0</td>\n",
       "      <td>3</td>\n",
       "      <td>4</td>\n",
       "      <td>2</td>\n",
       "    </tr>\n",
       "    <tr>\n",
       "      <th>2</th>\n",
       "      <td>5</td>\n",
       "      <td>3</td>\n",
       "      <td>5</td>\n",
       "      <td>7</td>\n",
       "      <td>2</td>\n",
       "      <td>0</td>\n",
       "      <td>5</td>\n",
       "      <td>0</td>\n",
       "      <td>2</td>\n",
       "      <td>5</td>\n",
       "    </tr>\n",
       "    <tr>\n",
       "      <th>3</th>\n",
       "      <td>5</td>\n",
       "      <td>1</td>\n",
       "      <td>0</td>\n",
       "      <td>4</td>\n",
       "      <td>0</td>\n",
       "      <td>0</td>\n",
       "      <td>1</td>\n",
       "      <td>0</td>\n",
       "      <td>3</td>\n",
       "      <td>1</td>\n",
       "    </tr>\n",
       "    <tr>\n",
       "      <th>4</th>\n",
       "      <td>3</td>\n",
       "      <td>1</td>\n",
       "      <td>4</td>\n",
       "      <td>5</td>\n",
       "      <td>9</td>\n",
       "      <td>4</td>\n",
       "      <td>9</td>\n",
       "      <td>10</td>\n",
       "      <td>6</td>\n",
       "      <td>6</td>\n",
       "    </tr>\n",
       "  </tbody>\n",
       "</table>\n",
       "</div>"
      ],
      "text/plain": [
       "Region  Dnipro  Kharkiv  Kherson  Khrivoy Rog  Kiev  Lviv  Mariupol  Odessa  \\\n",
       "labels                                                                        \n",
       "0            4       12       10            3     2     7         5       7   \n",
       "1            3        3        1            1     7     8         0       3   \n",
       "2            5        3        5            7     2     0         5       0   \n",
       "3            5        1        0            4     0     0         1       0   \n",
       "4            3        1        4            5     9     4         9      10   \n",
       "\n",
       "Region  Poltava  Zaporozhye  \n",
       "labels                       \n",
       "0             5           6  \n",
       "1             4           2  \n",
       "2             2           5  \n",
       "3             3           1  \n",
       "4             6           6  "
      ]
     },
     "execution_count": 35,
     "metadata": {},
     "output_type": "execute_result"
    }
   ],
   "source": [
    "pd.crosstab(data['labels'],data['Region'])"
   ]
  },
  {
   "cell_type": "code",
   "execution_count": 40,
   "metadata": {},
   "outputs": [
    {
     "data": {
      "image/png": "[encoded data removed]",
      "text/plain": [
       "<Figure size 1440x864 with 1 Axes>"
      ]
     },
     "metadata": {
      "needs_background": "light"
     },
     "output_type": "display_data"
    }
   ],
   "source": [
    "plt.figure(figsize=(20,12))\n",
    "sns.countplot(x='labels',data=data,hue='Region')\n",
    "plt.title(\"Relationship between Regions and labels\\n\")\n",
    "plt.savefig(f'images/RegionVsLabels.png')\n",
    "plt.show()"
   ]
  },
  {
   "cell_type": "markdown",
   "metadata": {},
   "source": [
    "- we observe that labels 0 and 4 represent all the regions, 1 and 2 fewer regions and 3 some regions."
   ]
  },
  {
   "cell_type": "code",
   "execution_count": 41,
   "metadata": {},
   "outputs": [
    {
     "data": {
      "image/png": "[encoded data removed]",
      "text/plain": [
       "<Figure size 1440x864 with 1 Axes>"
      ]
     },
     "metadata": {
      "needs_background": "light"
     },
     "output_type": "display_data"
    }
   ],
   "source": [
    "plt.figure(figsize=(20,12))\n",
    "sns.countplot(x='labels',data=data,hue='Place type',palette=\"Set3\")\n",
    "plt.savefig(f'images/LabelsVsPlace.png')\n",
    "plt.show()"
   ]
  },
  {
   "cell_type": "code",
   "execution_count": 42,
   "metadata": {},
   "outputs": [
    {
     "data": {
      "image/png": "[encoded data removed]",
      "text/plain": [
       "<Figure size 864x576 with 1 Axes>"
      ]
     },
     "metadata": {
      "needs_background": "light"
     },
     "output_type": "display_data"
    }
   ],
   "source": [
    "plt.figure(figsize=(12,8))\n",
    "sns.countplot(x='labels',data=data,hue='Delivery option',palette=\"Set3\")\n",
    "plt.savefig(f'images/LabelsVsDelivery.png')\n",
    "plt.show()"
   ]
  },
  {
   "cell_type": "code",
   "execution_count": 43,
   "metadata": {},
   "outputs": [
    {
     "data": {
      "image/png": "[encoded data removed]",
      "text/plain": [
       "<Figure size 864x576 with 1 Axes>"
      ]
     },
     "metadata": {
      "needs_background": "light"
     },
     "output_type": "display_data"
    }
   ],
   "source": [
    "plt.figure(figsize=(12,8))\n",
    "sns.countplot(x='labels',data=data,hue='Price')\n",
    "plt.savefig(f'images/LabelsVsPrice.png')\n",
    "plt.show()"
   ]
  },
  {
   "cell_type": "code",
   "execution_count": 45,
   "metadata": {},
   "outputs": [
    {
     "data": {
      "image/png": "[encoded data removed]",
      "text/plain": [
       "<Figure size 1152x576 with 1 Axes>"
      ]
     },
     "metadata": {
      "needs_background": "light"
     },
     "output_type": "display_data"
    }
   ],
   "source": [
    "plt.figure(figsize=(16,8))\n",
    "sns.scatterplot(x = 'Reviews', y = 'Rating', hue = 'labels', data = data)\n",
    "plt.title('Relationship between Reviews and Rating vs labels ')\n",
    "plt.show()"
   ]
  },
  {
   "cell_type": "markdown",
   "metadata": {},
   "source": [
    "- Clusters with label 4 are highly rated. "
   ]
  },
  {
   "cell_type": "markdown",
   "metadata": {},
   "source": [
    "# Coclusion"
   ]
  },
  {
   "cell_type": "markdown",
   "metadata": {},
   "source": [
    "- The main objectifs of this case study is to  identify the main segments and their key features by understanding the exsiting coffee shops in this market.\n",
    "- With the help of elbow method we found that the optimum number of clusters is 5.\n",
    "- To improve the segmentation of the model, adding new features to the datasets and  feature engineering practices can be applied.\n",
    "\n",
    "#### Recommendations\n",
    "\n",
    "- Segmenting the market into 5 regions will help to enter the coffee market in Ukraine.\n",
    "- For more competition in this market management must match price with shops that have more affordable prices, Offer all the options Delivery,take out and dine in.\n",
    "- To be highly rated and get more reviews opening a coffe shop at the begining will be a better decision in this market."
   ]
  },
  {
   "cell_type": "markdown",
   "metadata": {},
   "source": [
    "# References \n",
    "- https://s3.amazonaws.com/talent-assets.datacamp.com/case_study_sample.pdf\n",
    "- https://www.cbi.eu/market-information/coffee/trade-statistics\n",
    "- https://www.statista.com/outlook/cmo/hot-drinks/coffee/ukraine\n",
    "- https://towardsdatascience.com/silhouette-method-better-than-elbow-method-to-find-optimal-clusters-378d62ff6891\n",
    "- https://s3.amazonaws.com/talent-assets.datacamp.com/case_study_sample.pdf"
   ]
  }
 ],
 "metadata": {
  "colab": {
   "name": "Welcome to DataCamp Workspaces.ipynb",
   "provenance": []
  },
  "kernelspec": {
   "display_name": "Python 3 (ipykernel)",
   "language": "python",
   "name": "python3"
  },
  "language_info": {
   "codemirror_mode": {
    "name": "ipython",
    "version": 3
   },
   "file_extension": ".py",
   "mimetype": "text/x-python",
   "name": "python",
   "nbconvert_exporter": "python",
   "pygments_lexer": "ipython3",
   "version": "3.8.10"
  }
 },
 "nbformat": 4,
 "nbformat_minor": 4
}
